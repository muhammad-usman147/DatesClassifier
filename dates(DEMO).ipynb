{
  "nbformat": 4,
  "nbformat_minor": 0,
  "metadata": {
    "colab": {
      "name": "dates(DEMO).ipynb",
      "provenance": []
    },
    "kernelspec": {
      "name": "python3",
      "display_name": "Python 3"
    }
  },
  "cells": [
    {
      "cell_type": "code",
      "metadata": {
        "id": "206_A9YwY_7t",
        "colab_type": "code",
        "colab": {}
      },
      "source": [
        "from bs4 import *\n",
        "import requests as rq\n",
        "import os\n",
        "from tqdm import tqdm"
      ],
      "execution_count": 61,
      "outputs": []
    },
    {
      "cell_type": "code",
      "metadata": {
        "id": "pgpfTstSbGkS",
        "colab_type": "code",
        "colab": {}
      },
      "source": [
        "from google.colab import drive"
      ],
      "execution_count": 62,
      "outputs": []
    },
    {
      "cell_type": "code",
      "metadata": {
        "id": "cZyTZyA_bfGn",
        "colab_type": "code",
        "colab": {
          "base_uri": "https://localhost:8080/",
          "height": 121
        },
        "outputId": "774647bc-17b0-4f0c-c7a4-7fc71d0b143a"
      },
      "source": [
        "drive.mount('/content/drive')"
      ],
      "execution_count": 21,
      "outputs": [
        {
          "output_type": "stream",
          "text": [
            "Go to this URL in a browser: https://accounts.google.com/o/oauth2/auth?client_id=947318989803-6bn6qk8qdgf4n4g3pfee6491hc0brc4i.apps.googleusercontent.com&redirect_uri=urn%3aietf%3awg%3aoauth%3a2.0%3aoob&scope=email%20https%3a%2f%2fwww.googleapis.com%2fauth%2fdocs.test%20https%3a%2f%2fwww.googleapis.com%2fauth%2fdrive%20https%3a%2f%2fwww.googleapis.com%2fauth%2fdrive.photos.readonly%20https%3a%2f%2fwww.googleapis.com%2fauth%2fpeopleapi.readonly&response_type=code\n",
            "\n",
            "Enter your authorization code:\n",
            "··········\n",
            "Mounted at /content/drive\n"
          ],
          "name": "stdout"
        }
      ]
    },
    {
      "cell_type": "code",
      "metadata": {
        "id": "KyRGeDREd8bG",
        "colab_type": "code",
        "colab": {
          "base_uri": "https://localhost:8080/",
          "height": 1000
        },
        "outputId": "19f660ec-ae00-41f2-f5ff-6f56e0dd8c09"
      },
      "source": [
        "count = 0\n",
        "for page in tqdm(range(1,5)):\n",
        "  data = rq.get(f\"https://www.istockphoto.com/photos/deglet-noor-date?mediatype=photography&page={page}&phrase=deglet%20noor%20date&sort=mostpopular\", headers={\"User-Agent\": \"XY\"})\n",
        "  soup = BeautifulSoup(data.text,'html.parser')\n",
        "  links = soup.select('img[src^=\"https://media.istockphoto.com/photos\"]')\n",
        "  x = []\n",
        "  for i in links:\n",
        "    x.append(i['src'])\n",
        "  print(\"Extracting Deglet Noor  images\")\n",
        "  for lnks in tqdm(x):\n",
        "    data = rq.get(lnks,headers={\"User-Agent\": \"XY\"}).content\n",
        "    with open(f\"/content/drive/My Drive/DateFruitDataset/DegletNoorDates/Deglet{count}.png\",\"wb+\") as f:\n",
        "      f.write(data)\n",
        "    count +=1 \n",
        "  print(f\"\\n\\t\\t Total images Extracted==> {count}\") "
      ],
      "execution_count": 64,
      "outputs": [
        {
          "output_type": "stream",
          "text": [
            "  0%|          | 0/4 [00:00<?, ?it/s]\n",
            "  0%|          | 0/60 [00:00<?, ?it/s]\u001b[A\n",
            "  2%|▏         | 1/60 [00:00<00:06,  8.69it/s]\u001b[A"
          ],
          "name": "stderr"
        },
        {
          "output_type": "stream",
          "text": [
            "Extracting Deglet Noor  images\n"
          ],
          "name": "stdout"
        },
        {
          "output_type": "stream",
          "text": [
            "\n",
            "  5%|▌         | 3/60 [00:00<00:06,  9.40it/s]\u001b[A\n",
            "  8%|▊         | 5/60 [00:00<00:05,  9.79it/s]\u001b[A\n",
            " 10%|█         | 6/60 [00:00<00:05,  9.53it/s]\u001b[A\n",
            " 13%|█▎        | 8/60 [00:00<00:05,  9.86it/s]\u001b[A\n",
            " 17%|█▋        | 10/60 [00:00<00:04, 10.13it/s]\u001b[A\n",
            " 20%|██        | 12/60 [00:01<00:04, 10.29it/s]\u001b[A\n",
            " 22%|██▏       | 13/60 [00:01<00:04, 10.02it/s]\u001b[A\n",
            " 23%|██▎       | 14/60 [00:01<00:04,  9.81it/s]\u001b[A\n",
            " 27%|██▋       | 16/60 [00:01<00:04, 10.07it/s]\u001b[A\n",
            " 28%|██▊       | 17/60 [00:01<00:04, 10.05it/s]\u001b[A\n",
            " 30%|███       | 18/60 [00:01<00:04,  9.90it/s]\u001b[A\n",
            " 33%|███▎      | 20/60 [00:01<00:03, 10.19it/s]\u001b[A\n",
            " 37%|███▋      | 22/60 [00:02<00:03,  9.80it/s]\u001b[A\n",
            " 40%|████      | 24/60 [00:02<00:03, 10.16it/s]\u001b[A\n",
            " 43%|████▎     | 26/60 [00:02<00:03, 10.40it/s]\u001b[A\n",
            " 47%|████▋     | 28/60 [00:02<00:03, 10.58it/s]\u001b[A\n",
            " 50%|█████     | 30/60 [00:02<00:02, 10.54it/s]\u001b[A\n",
            " 53%|█████▎    | 32/60 [00:03<00:02, 10.34it/s]\u001b[A\n",
            " 57%|█████▋    | 34/60 [00:03<00:02, 10.47it/s]\u001b[A\n",
            " 60%|██████    | 36/60 [00:03<00:02, 10.36it/s]\u001b[A\n",
            " 63%|██████▎   | 38/60 [00:03<00:02,  9.58it/s]\u001b[A\n",
            " 67%|██████▋   | 40/60 [00:03<00:02,  9.65it/s]\u001b[A\n",
            " 70%|███████   | 42/60 [00:04<00:01,  9.53it/s]\u001b[A\n",
            " 73%|███████▎  | 44/60 [00:04<00:01,  9.87it/s]\u001b[A\n",
            " 75%|███████▌  | 45/60 [00:04<00:01,  8.66it/s]\u001b[A\n",
            " 78%|███████▊  | 47/60 [00:04<00:01,  9.32it/s]\u001b[A\n",
            " 80%|████████  | 48/60 [00:04<00:01,  9.37it/s]\u001b[A\n",
            " 83%|████████▎ | 50/60 [00:04<00:01,  9.77it/s]\u001b[A\n",
            " 87%|████████▋ | 52/60 [00:05<00:00, 10.27it/s]\u001b[A\n",
            " 90%|█████████ | 54/60 [00:05<00:00,  9.79it/s]\u001b[A\n",
            " 93%|█████████▎| 56/60 [00:05<00:00, 10.05it/s]\u001b[A\n",
            " 97%|█████████▋| 58/60 [00:05<00:00,  9.91it/s]\u001b[A\n",
            "100%|██████████| 60/60 [00:05<00:00, 10.12it/s]\n",
            " 25%|██▌       | 1/4 [00:06<00:19,  6.41s/it]"
          ],
          "name": "stderr"
        },
        {
          "output_type": "stream",
          "text": [
            "\n",
            "\t\t Total images Extracted==> 60\n"
          ],
          "name": "stdout"
        },
        {
          "output_type": "stream",
          "text": [
            "\n",
            "  0%|          | 0/60 [00:00<?, ?it/s]\u001b[A\n",
            "  2%|▏         | 1/60 [00:00<00:06,  9.52it/s]\u001b[A"
          ],
          "name": "stderr"
        },
        {
          "output_type": "stream",
          "text": [
            "Extracting Deglet Noor  images\n"
          ],
          "name": "stdout"
        },
        {
          "output_type": "stream",
          "text": [
            "\n",
            "  5%|▌         | 3/60 [00:00<00:05, 10.04it/s]\u001b[A\n",
            "  8%|▊         | 5/60 [00:00<00:05, 10.59it/s]\u001b[A\n",
            " 12%|█▏        | 7/60 [00:00<00:04, 10.91it/s]\u001b[A\n",
            " 15%|█▌        | 9/60 [00:00<00:04, 11.33it/s]\u001b[A\n",
            " 17%|█▋        | 10/60 [00:00<00:04, 10.29it/s]\u001b[A\n",
            " 18%|█▊        | 11/60 [00:01<00:05,  8.64it/s]\u001b[A\n",
            " 20%|██        | 12/60 [00:01<00:06,  7.32it/s]\u001b[A\n",
            " 22%|██▏       | 13/60 [00:01<00:06,  6.86it/s]\u001b[A\n",
            " 23%|██▎       | 14/60 [00:01<00:07,  6.03it/s]\u001b[A\n",
            " 25%|██▌       | 15/60 [00:01<00:07,  5.84it/s]\u001b[A\n",
            " 27%|██▋       | 16/60 [00:02<00:09,  4.86it/s]\u001b[A\n",
            " 28%|██▊       | 17/60 [00:02<00:08,  5.14it/s]\u001b[A\n",
            " 30%|███       | 18/60 [00:02<00:08,  5.01it/s]\u001b[A\n",
            " 32%|███▏      | 19/60 [00:02<00:07,  5.18it/s]\u001b[A\n",
            " 33%|███▎      | 20/60 [00:02<00:07,  5.39it/s]\u001b[A\n",
            " 35%|███▌      | 21/60 [00:02<00:07,  5.57it/s]\u001b[A\n",
            " 37%|███▋      | 22/60 [00:03<00:07,  4.79it/s]\u001b[A\n",
            " 38%|███▊      | 23/60 [00:03<00:07,  4.70it/s]\u001b[A\n",
            " 40%|████      | 24/60 [00:03<00:08,  4.09it/s]\u001b[A\n",
            " 42%|████▏     | 25/60 [00:04<00:09,  3.80it/s]\u001b[A\n",
            " 43%|████▎     | 26/60 [00:04<00:09,  3.48it/s]\u001b[A\n",
            " 45%|████▌     | 27/60 [00:04<00:09,  3.47it/s]\u001b[A\n",
            " 47%|████▋     | 28/60 [00:04<00:08,  3.70it/s]\u001b[A\n",
            " 48%|████▊     | 29/60 [00:05<00:07,  4.08it/s]\u001b[A\n",
            " 50%|█████     | 30/60 [00:05<00:06,  4.33it/s]\u001b[A\n",
            " 52%|█████▏    | 31/60 [00:05<00:06,  4.49it/s]\u001b[A\n",
            " 53%|█████▎    | 32/60 [00:05<00:06,  4.57it/s]\u001b[A\n",
            " 55%|█████▌    | 33/60 [00:06<00:06,  4.45it/s]\u001b[A\n",
            " 57%|█████▋    | 34/60 [00:06<00:05,  4.41it/s]\u001b[A\n",
            " 58%|█████▊    | 35/60 [00:06<00:05,  4.31it/s]\u001b[A\n",
            " 60%|██████    | 36/60 [00:06<00:05,  4.67it/s]\u001b[A\n",
            " 62%|██████▏   | 37/60 [00:06<00:05,  4.42it/s]\u001b[A\n",
            " 63%|██████▎   | 38/60 [00:07<00:05,  3.99it/s]\u001b[A\n",
            " 65%|██████▌   | 39/60 [00:07<00:05,  4.17it/s]\u001b[A\n",
            " 67%|██████▋   | 40/60 [00:07<00:04,  4.50it/s]\u001b[A\n",
            " 68%|██████▊   | 41/60 [00:07<00:04,  4.34it/s]\u001b[A\n",
            " 70%|███████   | 42/60 [00:08<00:04,  4.36it/s]\u001b[A\n",
            " 72%|███████▏  | 43/60 [00:08<00:03,  4.64it/s]\u001b[A\n",
            " 73%|███████▎  | 44/60 [00:08<00:03,  4.65it/s]\u001b[A\n",
            " 75%|███████▌  | 45/60 [00:08<00:02,  5.06it/s]\u001b[A\n",
            " 77%|███████▋  | 46/60 [00:08<00:02,  5.31it/s]\u001b[A\n",
            " 78%|███████▊  | 47/60 [00:09<00:02,  5.04it/s]\u001b[A\n",
            " 80%|████████  | 48/60 [00:09<00:02,  4.81it/s]\u001b[A\n",
            " 82%|████████▏ | 49/60 [00:09<00:02,  5.06it/s]\u001b[A\n",
            " 83%|████████▎ | 50/60 [00:09<00:02,  4.84it/s]\u001b[A\n",
            " 85%|████████▌ | 51/60 [00:09<00:01,  5.36it/s]\u001b[A\n",
            " 87%|████████▋ | 52/60 [00:10<00:01,  5.10it/s]\u001b[A\n",
            " 90%|█████████ | 54/60 [00:10<00:00,  6.05it/s]\u001b[A\n",
            " 92%|█████████▏| 55/60 [00:10<00:00,  6.27it/s]\u001b[A\n",
            " 93%|█████████▎| 56/60 [00:10<00:00,  6.98it/s]\u001b[A\n",
            " 95%|█████████▌| 57/60 [00:10<00:00,  7.34it/s]\u001b[A\n",
            " 98%|█████████▊| 59/60 [00:10<00:00,  8.03it/s]\u001b[A\n",
            "100%|██████████| 60/60 [00:10<00:00,  5.50it/s]\n",
            " 50%|█████     | 2/4 [00:17<00:15,  7.92s/it]"
          ],
          "name": "stderr"
        },
        {
          "output_type": "stream",
          "text": [
            "\n",
            "\t\t Total images Extracted==> 120\n"
          ],
          "name": "stdout"
        },
        {
          "output_type": "stream",
          "text": [
            "\n",
            "  0%|          | 0/60 [00:00<?, ?it/s]\u001b[A\n",
            "  3%|▎         | 2/60 [00:00<00:04, 12.52it/s]\u001b[A"
          ],
          "name": "stderr"
        },
        {
          "output_type": "stream",
          "text": [
            "Extracting Deglet Noor  images\n"
          ],
          "name": "stdout"
        },
        {
          "output_type": "stream",
          "text": [
            "\n",
            "  7%|▋         | 4/60 [00:00<00:04, 12.61it/s]\u001b[A\n",
            " 10%|█         | 6/60 [00:00<00:04, 12.33it/s]\u001b[A\n",
            " 13%|█▎        | 8/60 [00:00<00:04, 12.22it/s]\u001b[A\n",
            " 17%|█▋        | 10/60 [00:00<00:04, 11.92it/s]\u001b[A\n",
            " 20%|██        | 12/60 [00:01<00:04, 11.84it/s]\u001b[A\n",
            " 23%|██▎       | 14/60 [00:01<00:04, 11.19it/s]\u001b[A\n",
            " 27%|██▋       | 16/60 [00:01<00:04, 10.14it/s]\u001b[A\n",
            " 30%|███       | 18/60 [00:01<00:04, 10.37it/s]\u001b[A\n",
            " 33%|███▎      | 20/60 [00:01<00:03, 10.16it/s]\u001b[A\n",
            " 35%|███▌      | 21/60 [00:01<00:03,  9.94it/s]\u001b[A\n",
            " 38%|███▊      | 23/60 [00:02<00:03, 10.15it/s]\u001b[A\n",
            " 42%|████▏     | 25/60 [00:02<00:03, 10.50it/s]\u001b[A\n",
            " 45%|████▌     | 27/60 [00:02<00:03, 10.83it/s]\u001b[A\n",
            " 48%|████▊     | 29/60 [00:02<00:02, 10.81it/s]\u001b[A\n",
            " 52%|█████▏    | 31/60 [00:02<00:03,  9.64it/s]\u001b[A\n",
            " 55%|█████▌    | 33/60 [00:03<00:02, 10.12it/s]\u001b[A\n",
            " 58%|█████▊    | 35/60 [00:03<00:02, 10.12it/s]\u001b[A\n",
            " 62%|██████▏   | 37/60 [00:03<00:02, 10.26it/s]\u001b[A\n",
            " 65%|██████▌   | 39/60 [00:03<00:02, 10.11it/s]\u001b[A\n",
            " 68%|██████▊   | 41/60 [00:03<00:01, 10.27it/s]\u001b[A\n",
            " 72%|███████▏  | 43/60 [00:04<00:01, 10.12it/s]\u001b[A\n",
            " 75%|███████▌  | 45/60 [00:04<00:01,  9.47it/s]\u001b[A\n",
            " 78%|███████▊  | 47/60 [00:04<00:01,  9.79it/s]\u001b[A\n",
            " 82%|████████▏ | 49/60 [00:04<00:01,  9.96it/s]\u001b[A\n",
            " 85%|████████▌ | 51/60 [00:04<00:00, 10.02it/s]\u001b[A\n",
            " 88%|████████▊ | 53/60 [00:05<00:00,  9.93it/s]\u001b[A\n",
            " 90%|█████████ | 54/60 [00:05<00:00,  9.87it/s]\u001b[A\n",
            " 93%|█████████▎| 56/60 [00:05<00:00, 10.09it/s]\u001b[A\n",
            " 97%|█████████▋| 58/60 [00:05<00:00,  9.78it/s]\u001b[A\n",
            " 98%|█████████▊| 59/60 [00:05<00:00,  7.86it/s]\u001b[A\n",
            "100%|██████████| 60/60 [00:05<00:00, 10.02it/s]\n",
            " 75%|███████▌  | 3/4 [00:24<00:07,  7.53s/it]"
          ],
          "name": "stderr"
        },
        {
          "output_type": "stream",
          "text": [
            "\n",
            "\t\t Total images Extracted==> 180\n"
          ],
          "name": "stdout"
        },
        {
          "output_type": "stream",
          "text": [
            "\n",
            "  0%|          | 0/37 [00:00<?, ?it/s]\u001b[A\n",
            "  5%|▌         | 2/37 [00:00<00:03, 11.54it/s]\u001b[A"
          ],
          "name": "stderr"
        },
        {
          "output_type": "stream",
          "text": [
            "Extracting Deglet Noor  images\n"
          ],
          "name": "stdout"
        },
        {
          "output_type": "stream",
          "text": [
            "\n",
            "  8%|▊         | 3/37 [00:00<00:03, 11.00it/s]\u001b[A\n",
            " 11%|█         | 4/37 [00:00<00:03, 10.15it/s]\u001b[A\n",
            " 14%|█▎        | 5/37 [00:00<00:03,  9.83it/s]\u001b[A\n",
            " 16%|█▌        | 6/37 [00:00<00:03,  9.76it/s]\u001b[A\n",
            " 19%|█▉        | 7/37 [00:00<00:03,  8.79it/s]\u001b[A\n",
            " 24%|██▍       | 9/37 [00:00<00:02,  9.69it/s]\u001b[A\n",
            " 30%|██▉       | 11/37 [00:01<00:02, 10.24it/s]\u001b[A\n",
            " 32%|███▏      | 12/37 [00:01<00:02, 10.16it/s]\u001b[A\n",
            " 38%|███▊      | 14/37 [00:01<00:02, 10.44it/s]\u001b[A\n",
            " 43%|████▎     | 16/37 [00:01<00:02, 10.22it/s]\u001b[A\n",
            " 49%|████▊     | 18/37 [00:01<00:01,  9.83it/s]\u001b[A\n",
            " 51%|█████▏    | 19/37 [00:01<00:01,  9.53it/s]\u001b[A\n",
            " 54%|█████▍    | 20/37 [00:01<00:01,  9.51it/s]\u001b[A\n",
            " 57%|█████▋    | 21/37 [00:02<00:01,  9.27it/s]\u001b[A\n",
            " 59%|█████▉    | 22/37 [00:02<00:01,  9.03it/s]\u001b[A\n",
            " 62%|██████▏   | 23/37 [00:02<00:01,  7.36it/s]\u001b[A\n",
            " 65%|██████▍   | 24/37 [00:02<00:01,  7.36it/s]\u001b[A\n",
            " 68%|██████▊   | 25/37 [00:02<00:01,  7.26it/s]\u001b[A\n",
            " 70%|███████   | 26/37 [00:02<00:01,  7.77it/s]\u001b[A\n",
            " 73%|███████▎  | 27/37 [00:02<00:01,  8.04it/s]\u001b[A\n",
            " 76%|███████▌  | 28/37 [00:03<00:01,  8.48it/s]\u001b[A\n",
            " 78%|███████▊  | 29/37 [00:03<00:00,  8.43it/s]\u001b[A\n",
            " 81%|████████  | 30/37 [00:03<00:00,  8.54it/s]\u001b[A\n",
            " 84%|████████▍ | 31/37 [00:03<00:00,  8.83it/s]\u001b[A\n",
            " 86%|████████▋ | 32/37 [00:03<00:00,  8.82it/s]\u001b[A\n",
            " 89%|████████▉ | 33/37 [00:03<00:00,  8.58it/s]\u001b[A\n",
            " 92%|█████████▏| 34/37 [00:03<00:00,  8.64it/s]\u001b[A\n",
            " 95%|█████████▍| 35/37 [00:03<00:00,  8.68it/s]\u001b[A\n",
            " 97%|█████████▋| 36/37 [00:03<00:00,  8.78it/s]\u001b[A\n",
            "100%|██████████| 37/37 [00:04<00:00,  9.13it/s]\n",
            "100%|██████████| 4/4 [00:28<00:00,  7.23s/it]"
          ],
          "name": "stderr"
        },
        {
          "output_type": "stream",
          "text": [
            "\n",
            "\t\t Total images Extracted==> 217\n"
          ],
          "name": "stdout"
        },
        {
          "output_type": "stream",
          "text": [
            "\n"
          ],
          "name": "stderr"
        }
      ]
    },
    {
      "cell_type": "code",
      "metadata": {
        "id": "9Aa80wh0lov9",
        "colab_type": "code",
        "colab": {
          "base_uri": "https://localhost:8080/",
          "height": 34
        },
        "outputId": "ed1d1f1d-fc61-4f78-c61e-b84df7b6b81d"
      },
      "source": [
        "count = len(os.listdir('/content/drive/My Drive/DateFruitDataset/DegletNoorDates/'))\n",
        "print(f\"Total Deglet images are ===> {count}\")"
      ],
      "execution_count": 65,
      "outputs": [
        {
          "output_type": "stream",
          "text": [
            "Total Deglet images are ===> 217\n"
          ],
          "name": "stdout"
        }
      ]
    },
    {
      "cell_type": "code",
      "metadata": {
        "id": "ij8CeqrQmXN3",
        "colab_type": "code",
        "colab": {
          "base_uri": "https://localhost:8080/",
          "height": 34
        },
        "outputId": "63f109cd-fe8c-412f-e697-bde6adde92bf"
      },
      "source": [
        ""
      ],
      "execution_count": 56,
      "outputs": [
        {
          "output_type": "execute_result",
          "data": {
            "text/plain": [
              "719"
            ]
          },
          "metadata": {
            "tags": []
          },
          "execution_count": 56
        }
      ]
    },
    {
      "cell_type": "code",
      "metadata": {
        "id": "XWhF_MwBn22g",
        "colab_type": "code",
        "colab": {}
      },
      "source": [
        "<img alt=\"dried dates - deglet noor date stock pictures, royalty-free photos &amp; images\" class=\"gallery-asset__thumb gallery-mosaic-asset__thumb gallery-mosaic-asset__thumb--null\" ng-class=\"thumbClassNames\" src=\"/dried-dates-picture-id509805712?k=6&amp;m=509805712&amp;s=612x612&amp;w=0&amp;h=C90f3oyDblkxi37caauGMbznXghBcpyfcf3IXFz43V8=\" style=\"opacity: 1;\">"
      ],
      "execution_count": null,
      "outputs": []
    }
  ]
}